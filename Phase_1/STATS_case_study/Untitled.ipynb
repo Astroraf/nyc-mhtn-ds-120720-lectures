{
 "cells": [
  {
   "cell_type": "code",
   "execution_count": 11,
   "metadata": {},
   "outputs": [
    {
     "data": {
      "text/plain": [
       "2.761674354258233"
      ]
     },
     "execution_count": 11,
     "metadata": {},
     "output_type": "execute_result"
    }
   ],
   "source": [
    "import pandas as pd\n",
    "import matplotlib.pyplot as plt\n",
    "import numpy as np\n",
    "import scipy.stats as stats\n",
    "import math\n",
    "import seaborn as sns\n",
    "%matplotlib inline\n",
    "\n",
    "    #Define variables to determine our z value based on the mean equals 4:\n",
    "   \n",
    "    # Sample mean (x̄) using NumPy mean()\n",
    "x_bar = 31.935\n",
    "    \n",
    "    \n",
    "    # Population mean \n",
    "mu_not = 31\n",
    "    \n",
    "    # Sample Standard Deviation (sigma) using Numpy\n",
    "sigma = 2.394\n",
    "    \n",
    "    # Sample size\n",
    "n = 50\n",
    "    \n",
    "    #Creates the z critical value \n",
    "z = (x_bar - mu_not)/(sigma/ math.sqrt(n))\n",
    "    \n",
    "#     # Degrees of freedom\n",
    "#     df = len(sample) - 1\n",
    "     \n",
    "#     #Calculate the critical t-value\n",
    "#     t_crit = stats.t.ppf(1 - alpha, df=df)\n",
    "    \n",
    "#     #Calculate the t-value and p-value\n",
    "#     results = stats.ttest_1samp(a = sample, popmean= mu_not) \n",
    "    \n",
    "#     if (results[0]>t_crit) and (results[0]<alpha(-t_crit)) and (results[1]<alpha):\n",
    "#         print (\"Null hypothesis rejected. Results are statistically significant with t-value =\", \n",
    "#                 round(results[0], 2), \"critical t-value =\", t_crit, \"and p-value =\", np.round((results[1]), 10))\n",
    "#     else:\n",
    "#         print (\"Null hypothesis is True with t-value =\", \n",
    "#                 round(results[0], 2), \", critical t-value =\", t_crit, \"and p-value =\", np.round((results[1]), 10))\n",
    "    \n",
    "    \n",
    "\n",
    "\n",
    "z"
   ]
  },
  {
   "cell_type": "code",
   "execution_count": 16,
   "metadata": {},
   "outputs": [
    {
     "name": "stdout",
     "output_type": "stream",
     "text": [
      "Confidence interval:\n",
      "(30.903657266113516, 31.096342733886484)\n"
     ]
    },
    {
     "data": {
      "text/plain": [
       "(2.761674354258233, 0.9349999999999987, (30.065, 31.935))"
      ]
     },
     "execution_count": 16,
     "metadata": {},
     "output_type": "execute_result"
    }
   ],
   "source": [
    "sample_size = 50\n",
    "sample_stdev = 0.339\n",
    "x_hat = 31\n",
    "\n",
    "    # Calculate the z-critical value using stats.norm.ppf()\n",
    "    # Note that we use stats.norm.ppf(q = 0.975) to get the desired z-critical value \n",
    "    # instead of q = 0.95 because the distribution has two tails.\n",
    "t_critical = stats.t.ppf(q = 0.975, df=sample_size-1)  #  z-critical value for 95% confidence\n",
    "   # Get the sample standard deviation\n",
    "\n",
    "# Calculate sigma using the formula described above to get population standard deviation estimate\n",
    "sigma = sample_stdev/math.sqrt(sample_size)  \n",
    "\n",
    "# Calculate margin of error using t_critical and sigma\n",
    "margin_of_error = t_critical * sigma\n",
    "\n",
    "# Calculate the confidence intervals using calculated margin of error \n",
    "confidence_interval = (x_hat - margin_of_error,\n",
    "                       x_hat + margin_of_error)  \n",
    "\n",
    "\n",
    "\n",
    "print(\"Confidence interval:\")\n",
    "print(confidence_interval)\n",
    "\n",
    "    # Calculate the confidence interval by applying margin of error to sample mean \n",
    "    # (mean - margin of error, mean+ margin of error)\n",
    "conf = (x_hat - moe, x_hat + moe)\n",
    "    \n",
    "z, moe, conf"
   ]
  },
  {
   "cell_type": "code",
   "execution_count": null,
   "metadata": {},
   "outputs": [],
   "source": []
  }
 ],
 "metadata": {
  "kernelspec": {
   "display_name": "learn-env",
   "language": "python",
   "name": "learn-env"
  },
  "language_info": {
   "codemirror_mode": {
    "name": "ipython",
    "version": 3
   },
   "file_extension": ".py",
   "mimetype": "text/x-python",
   "name": "python",
   "nbconvert_exporter": "python",
   "pygments_lexer": "ipython3",
   "version": "3.8.5"
  }
 },
 "nbformat": 4,
 "nbformat_minor": 4
}
